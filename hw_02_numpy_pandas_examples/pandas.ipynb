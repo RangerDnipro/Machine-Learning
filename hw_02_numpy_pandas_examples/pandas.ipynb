{
 "cells": [
  {
   "cell_type": "markdown",
   "id": "903e65c2-9eb7-4b52-9ba4-b339401a29e6",
   "metadata": {},
   "source": [
    "[Pandas docs](https://pandas.pydata.org)"
   ]
  },
  {
   "cell_type": "code",
   "id": "4e60b12f-3c56-49b2-8abc-3d32fe60139c",
   "metadata": {
    "ExecuteTime": {
     "end_time": "2025-01-14T12:39:13.696698Z",
     "start_time": "2025-01-14T12:39:13.693713Z"
    }
   },
   "source": [
    "import pandas as pd"
   ],
   "outputs": [],
   "execution_count": 15
  },
  {
   "cell_type": "code",
   "id": "50b841e3-c152-4014-8516-10ddcc7c7fb0",
   "metadata": {
    "ExecuteTime": {
     "end_time": "2025-01-14T12:39:14.916697Z",
     "start_time": "2025-01-14T12:39:14.912821Z"
    }
   },
   "source": [
    "# Завдання 1: Створити серію зі списку чисел [10, 20, 30, 40, 50]\n",
    "ser1 = pd.Series([10, 20, 30, 40, 50])\n",
    "print(ser1)"
   ],
   "outputs": [
    {
     "name": "stdout",
     "output_type": "stream",
     "text": [
      "0    10\n",
      "1    20\n",
      "2    30\n",
      "3    40\n",
      "4    50\n",
      "dtype: int64\n"
     ]
    }
   ],
   "execution_count": 16
  },
  {
   "cell_type": "code",
   "id": "2c5c1962-b5af-4c13-9402-0309e7c3352e",
   "metadata": {
    "ExecuteTime": {
     "end_time": "2025-01-14T12:39:16.582086Z",
     "start_time": "2025-01-14T12:39:16.578171Z"
    }
   },
   "source": [
    "# Завдання 2: Створити DataFrame зі списку списків [[1, 2, 3], [4, 5, 6], [7, 8, 9]]\n",
    "df2 = pd.DataFrame([[1, 2, 3], [4, 5, 6], [7, 8, 9]])\n",
    "print(df2)"
   ],
   "outputs": [
    {
     "name": "stdout",
     "output_type": "stream",
     "text": [
      "   0  1  2\n",
      "0  1  2  3\n",
      "1  4  5  6\n",
      "2  7  8  9\n"
     ]
    }
   ],
   "execution_count": 17
  },
  {
   "cell_type": "code",
   "id": "68a99747-e784-40e8-8a3b-6d2719304862",
   "metadata": {
    "ExecuteTime": {
     "end_time": "2025-01-14T12:39:18.256950Z",
     "start_time": "2025-01-14T12:39:18.253114Z"
    }
   },
   "source": [
    "# Завдання 3: Задати індекси для серії з завдання 1 рядками \"a\", \"b\", \"c\", \"d\", \"e\"\n",
    "# Hints: series.index\n",
    "ser1.index = [\"a\", \"b\", \"c\", \"d\", \"e\"]\n",
    "print(ser1)"
   ],
   "outputs": [
    {
     "name": "stdout",
     "output_type": "stream",
     "text": [
      "a    10\n",
      "b    20\n",
      "c    30\n",
      "d    40\n",
      "e    50\n",
      "dtype: int64\n"
     ]
    }
   ],
   "execution_count": 18
  },
  {
   "cell_type": "code",
   "id": "91ba0594-1337-4c8e-a41f-b0bce46f87c4",
   "metadata": {
    "ExecuteTime": {
     "end_time": "2025-01-14T12:39:20.108028Z",
     "start_time": "2025-01-14T12:39:20.103813Z"
    }
   },
   "source": [
    "# Завдання 4: Перейменувати стовпці DataFrame з завдання 2 на \"A\", \"B\", \"C\"\n",
    "# Hints: df.columns\n",
    "df2.columns = [\"A\", \"B\", \"C\"]\n",
    "print(df2)"
   ],
   "outputs": [
    {
     "name": "stdout",
     "output_type": "stream",
     "text": [
      "   A  B  C\n",
      "0  1  2  3\n",
      "1  4  5  6\n",
      "2  7  8  9\n"
     ]
    }
   ],
   "execution_count": 19
  },
  {
   "cell_type": "code",
   "id": "c27ab251-b22e-4f48-99fc-a865a21d0911",
   "metadata": {
    "ExecuteTime": {
     "end_time": "2025-01-14T12:39:21.781858Z",
     "start_time": "2025-01-14T12:39:21.778119Z"
    }
   },
   "source": [
    "# Завдання 5: Знайти максимальний елемент в серії з завдання 1\n",
    "ser1_max = ser1.max()\n",
    "print(ser1_max)"
   ],
   "outputs": [
    {
     "name": "stdout",
     "output_type": "stream",
     "text": [
      "50\n"
     ]
    }
   ],
   "execution_count": 20
  },
  {
   "cell_type": "code",
   "id": "0f9a5ab4-a498-45a4-9cd3-4b6f1932d557",
   "metadata": {
    "ExecuteTime": {
     "end_time": "2025-01-14T12:39:23.452861Z",
     "start_time": "2025-01-14T12:39:23.448523Z"
    }
   },
   "source": [
    "# Завдання 6: Знайти середнє значення для кожного стовпця DataFrame з завдання 2\n",
    "df2_mean = df2.mean()\n",
    "print(df2_mean)"
   ],
   "outputs": [
    {
     "name": "stdout",
     "output_type": "stream",
     "text": [
      "A    4.0\n",
      "B    5.0\n",
      "C    6.0\n",
      "dtype: float64\n"
     ]
    }
   ],
   "execution_count": 21
  },
  {
   "cell_type": "code",
   "id": "f6e78f6e-9abd-4dc5-82a4-c85427fd9aa6",
   "metadata": {
    "ExecuteTime": {
     "end_time": "2025-01-14T12:39:25.393445Z",
     "start_time": "2025-01-14T12:39:25.390391Z"
    }
   },
   "source": [
    "# Завдання 7: Знайти суму елементів в серії з завдання 1\n",
    "ser1_sum = ser1.sum()\n",
    "print(ser1_sum)"
   ],
   "outputs": [
    {
     "name": "stdout",
     "output_type": "stream",
     "text": [
      "150\n"
     ]
    }
   ],
   "execution_count": 22
  },
  {
   "cell_type": "code",
   "id": "46176e68-705b-4c4b-b2ea-e314b51e888e",
   "metadata": {
    "ExecuteTime": {
     "end_time": "2025-01-14T12:39:27.161449Z",
     "start_time": "2025-01-14T12:39:27.157136Z"
    }
   },
   "source": [
    "# Завдання 8: Вибрати всі рядки DataFrame з завдання 2, де значення стовпця \"A\" менше 5\n",
    "df2_filtered = df2[df2[\"A\"] < 5]\n",
    "print(df2_filtered)"
   ],
   "outputs": [
    {
     "name": "stdout",
     "output_type": "stream",
     "text": [
      "   A  B  C\n",
      "0  1  2  3\n",
      "1  4  5  6\n"
     ]
    }
   ],
   "execution_count": 23
  },
  {
   "cell_type": "code",
   "id": "c2920dd6-93f2-4a17-9474-2489ac185c9b",
   "metadata": {
    "ExecuteTime": {
     "end_time": "2025-01-14T12:39:28.969258Z",
     "start_time": "2025-01-14T12:39:28.963506Z"
    }
   },
   "source": [
    "# Завдання 9: Додати новий стовпець \"D\" до DataFrame з завдання 2 зі значеннями [10, 20, 30]\n",
    "df2[\"D\"] = [10, 20, 30]\n",
    "print(df2)"
   ],
   "outputs": [
    {
     "name": "stdout",
     "output_type": "stream",
     "text": [
      "   A  B  C   D\n",
      "0  1  2  3  10\n",
      "1  4  5  6  20\n",
      "2  7  8  9  30\n"
     ]
    }
   ],
   "execution_count": 24
  },
  {
   "cell_type": "code",
   "id": "60955c9e-636d-4aa6-87d2-7ca94da50f59",
   "metadata": {
    "ExecuteTime": {
     "end_time": "2025-01-14T12:39:41.980585Z",
     "start_time": "2025-01-14T12:39:41.975798Z"
    }
   },
   "source": [
    "# Завдання 10: Видалити стовпець \"B\" з DataFrame з завдання 2\n",
    "df2.drop(columns=[\"B\"], inplace=True)\n",
    "print(df2)"
   ],
   "outputs": [
    {
     "name": "stdout",
     "output_type": "stream",
     "text": [
      "   A  C   D\n",
      "0  1  3  10\n",
      "1  4  6  20\n",
      "2  7  9  30\n"
     ]
    }
   ],
   "execution_count": 25
  },
  {
   "cell_type": "code",
   "execution_count": null,
   "id": "a60a3c29-f879-4296-82af-fa3b20924447",
   "metadata": {},
   "outputs": [],
   "source": []
  }
 ],
 "metadata": {
  "kernelspec": {
   "display_name": "Python 3 (ipykernel)",
   "language": "python",
   "name": "python3"
  },
  "language_info": {
   "codemirror_mode": {
    "name": "ipython",
    "version": 3
   },
   "file_extension": ".py",
   "mimetype": "text/x-python",
   "name": "python",
   "nbconvert_exporter": "python",
   "pygments_lexer": "ipython3",
   "version": "3.8.10"
  }
 },
 "nbformat": 4,
 "nbformat_minor": 5
}
